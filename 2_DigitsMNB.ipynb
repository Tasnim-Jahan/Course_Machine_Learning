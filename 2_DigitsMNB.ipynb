{
  "nbformat": 4,
  "nbformat_minor": 0,
  "metadata": {
    "colab": {
      "provenance": [],
      "include_colab_link": true
    },
    "kernelspec": {
      "name": "python3",
      "display_name": "Python 3"
    }
  },
  "cells": [
    {
      "cell_type": "markdown",
      "metadata": {
        "id": "view-in-github",
        "colab_type": "text"
      },
      "source": [
        "<a href=\"https://colab.research.google.com/github/Tasnim-Jahan/Course_Machine_Learning/blob/main/2_DigitsMNB.ipynb\" target=\"_parent\"><img src=\"https://colab.research.google.com/assets/colab-badge.svg\" alt=\"Open In Colab\"/></a>"
      ]
    },
    {
      "cell_type": "markdown",
      "metadata": {
        "id": "8jvBuLpa8HlH"
      },
      "source": [
        "#Read the Digit data"
      ]
    },
    {
      "cell_type": "code",
      "metadata": {
        "id": "oNWdFJGm8EeZ"
      },
      "source": [
        "import pandas as pn\n",
        "import numpy as np\n",
        "\n",
        "digits_X= pn.read_csv(\"https://raw.githubusercontent.com/swakkhar/MachineLearning/master/Codes/X.csv\",header=None)\n",
        "digits_y= pn.read_csv(\"https://raw.githubusercontent.com/swakkhar/MachineLearning/master/Codes/Y.csv\",header=None)\n",
        "digits_X=np.asarray(digits_X)\n",
        "digits_y=np.asarray(digits_y)\n"
      ],
      "execution_count": null,
      "outputs": []
    },
    {
      "cell_type": "code",
      "metadata": {
        "id": "jNj6EiZO8L4O",
        "colab": {
          "base_uri": "https://localhost:8080/"
        },
        "outputId": "63ae61c3-54e7-4290-f628-20d862fe00b4"
      },
      "source": [
        "digits_X.shape"
      ],
      "execution_count": null,
      "outputs": [
        {
          "output_type": "execute_result",
          "data": {
            "text/plain": [
              "(5000, 400)"
            ]
          },
          "metadata": {},
          "execution_count": 2
        }
      ]
    },
    {
      "cell_type": "code",
      "metadata": {
        "id": "ZzglpT3p8Rst",
        "colab": {
          "base_uri": "https://localhost:8080/"
        },
        "outputId": "b0cd610c-5056-4382-f464-63ab7086fcb3"
      },
      "source": [
        "digits_y=np.reshape(digits_y,(digits_y.shape[0],))\n",
        "digits_y.shape"
      ],
      "execution_count": null,
      "outputs": [
        {
          "output_type": "execute_result",
          "data": {
            "text/plain": [
              "(5000,)"
            ]
          },
          "metadata": {},
          "execution_count": 3
        }
      ]
    },
    {
      "cell_type": "code",
      "metadata": {
        "id": "j1587wvC8SW9",
        "colab": {
          "base_uri": "https://localhost:8080/",
          "height": 470
        },
        "outputId": "563fba19-eed8-422d-849b-048a345df5bc"
      },
      "source": [
        "import matplotlib.pyplot as plt\n",
        "def digitShow(x):\n",
        "  plt.imshow(x);\n",
        "  plt.colorbar()\n",
        "  plt.show()\n",
        "\n",
        "roW_indeX=np.random.randint(0,5000)\n",
        "print(roW_indeX)\n",
        "digitShow((np.reshape(digits_X[roW_indeX,:],(20,20))).T)\n",
        "print(digits_y[roW_indeX])"
      ],
      "execution_count": null,
      "outputs": [
        {
          "output_type": "stream",
          "name": "stdout",
          "text": [
            "906\n"
          ]
        },
        {
          "output_type": "display_data",
          "data": {
            "text/plain": [
              "<Figure size 640x480 with 2 Axes>"
            ],
            "image/png": "[encoded data removed]"
          },
          "metadata": {}
        },
        {
          "output_type": "stream",
          "name": "stdout",
          "text": [
            "1\n"
          ]
        }
      ]
    },
    {
      "cell_type": "code",
      "metadata": {
        "id": "ypMV5txF8Xsg",
        "colab": {
          "base_uri": "https://localhost:8080/"
        },
        "outputId": "6fad7fd1-2ae6-4098-a4c6-15fcd080d90a"
      },
      "source": [
        "from sklearn.naive_bayes import MultinomialNB\n",
        "from sklearn.neighbors import KNeighborsClassifier\n",
        "from sklearn.model_selection import train_test_split\n",
        "\n",
        "\n",
        "X_train, X_test, y_train, y_test = train_test_split(digits_X, digits_y, test_size=0.10, random_state=0)\n",
        "\n",
        "\n",
        "mnb =  MultinomialNB()\n",
        "\n",
        "\n",
        "y_pred = mnb.fit(X_train, y_train).predict(X_test)\n",
        "\n",
        "\n",
        "print(\"Number of mislabeled points out of a total %d points : %d\" % (X_test.shape[0], (y_test != y_pred).sum()))"
      ],
      "execution_count": null,
      "outputs": [
        {
          "output_type": "stream",
          "name": "stdout",
          "text": [
            "Number of mislabeled points out of a total 500 points : 94\n"
          ]
        }
      ]
    },
    {
      "cell_type": "code",
      "metadata": {
        "id": "yG3Afc9k8sci"
      },
      "source": [],
      "execution_count": null,
      "outputs": []
    }
  ]
}