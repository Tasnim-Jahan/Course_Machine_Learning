{
  "nbformat": 4,
  "nbformat_minor": 0,
  "metadata": {
    "colab": {
      "provenance": [],
      "include_colab_link": true
    },
    "kernelspec": {
      "name": "python3",
      "display_name": "Python 3"
    }
  },
  "cells": [
    {
      "cell_type": "markdown",
      "metadata": {
        "id": "view-in-github",
        "colab_type": "text"
      },
      "source": [
        "<a href=\"https://colab.research.google.com/github/Tasnim-Jahan/Course_Machine_Learning/blob/main/4_1_LinearRegression.ipynb\" target=\"_parent\"><img src=\"https://colab.research.google.com/assets/colab-badge.svg\" alt=\"Open In Colab\"/></a>"
      ]
    },
    {
      "cell_type": "markdown",
      "metadata": {
        "id": "oiuHx1sAB06Q"
      },
      "source": [
        "# Import data Using Pandas"
      ]
    },
    {
      "cell_type": "code",
      "metadata": {
        "id": "9ysuuqDcWxdh"
      },
      "source": [
        "import pandas as pn\n",
        "url ='https://raw.githubusercontent.com/swakkhar/'\n",
        "filename='MachineLearning/master/Codes/linear.csv'\n",
        "data = pn.read_csv(url+filename,header=None)"
      ],
      "execution_count": null,
      "outputs": []
    },
    {
      "cell_type": "code",
      "metadata": {
        "id": "DlNdjdKMdry2",
        "colab": {
          "base_uri": "https://localhost:8080/",
          "height": 424
        },
        "outputId": "0f4c0c11-8e48-454b-ad6b-2d45414fe2bf"
      },
      "source": [
        "data"
      ],
      "execution_count": null,
      "outputs": [
        {
          "output_type": "execute_result",
          "data": {
            "text/plain": [
              "            0         1\n",
              "0    0.067732  3.176513\n",
              "1    0.427810  3.816464\n",
              "2    0.995731  4.550095\n",
              "3    0.738336  4.256571\n",
              "4    0.981083  4.560815\n",
              "..        ...       ...\n",
              "195  0.257017  3.585821\n",
              "196  0.833735  4.374394\n",
              "197  0.070095  3.213817\n",
              "198  0.527070  3.952681\n",
              "199  0.116163  3.129283\n",
              "\n",
              "[200 rows x 2 columns]"
            ],
            "text/html": [
              "\n",
              "  <div id=\"df-5f3f60dc-5b8f-40dd-bd5d-c377f6dc74ae\" class=\"colab-df-container\">\n",
              "    <div>\n",
              "<style scoped>\n",
              "    .dataframe tbody tr th:only-of-type {\n",
              "        vertical-align: middle;\n",
              "    }\n",
              "\n",
              "    .dataframe tbody tr th {\n",
              "        vertical-align: top;\n",
              "    }\n",
              "\n",
              "    .dataframe thead th {\n",
              "        text-align: right;\n",
              "    }\n",
              "</style>\n",
              "<table border=\"1\" class=\"dataframe\">\n",
              "  <thead>\n",
              "    <tr style=\"text-align: right;\">\n",
              "      <th></th>\n",
              "      <th>0</th>\n",
              "      <th>1</th>\n",
              "    </tr>\n",
              "  </thead>\n",
              "  <tbody>\n",
              "    <tr>\n",
              "      <th>0</th>\n",
              "      <td>0.067732</td>\n",
              "      <td>3.176513</td>\n",
              "    </tr>\n",
              "    <tr>\n",
              "      <th>1</th>\n",
              "      <td>0.427810</td>\n",
              "      <td>3.816464</td>\n",
              "    </tr>\n",
              "    <tr>\n",
              "      <th>2</th>\n",
              "      <td>0.995731</td>\n",
              "      <td>4.550095</td>\n",
              "    </tr>\n",
              "    <tr>\n",
              "      <th>3</th>\n",
              "      <td>0.738336</td>\n",
              "      <td>4.256571</td>\n",
              "    </tr>\n",
              "    <tr>\n",
              "      <th>4</th>\n",
              "      <td>0.981083</td>\n",
              "      <td>4.560815</td>\n",
              "    </tr>\n",
              "    <tr>\n",
              "      <th>...</th>\n",
              "      <td>...</td>\n",
              "      <td>...</td>\n",
              "    </tr>\n",
              "    <tr>\n",
              "      <th>195</th>\n",
              "      <td>0.257017</td>\n",
              "      <td>3.585821</td>\n",
              "    </tr>\n",
              "    <tr>\n",
              "      <th>196</th>\n",
              "      <td>0.833735</td>\n",
              "      <td>4.374394</td>\n",
              "    </tr>\n",
              "    <tr>\n",
              "      <th>197</th>\n",
              "      <td>0.070095</td>\n",
              "      <td>3.213817</td>\n",
              "    </tr>\n",
              "    <tr>\n",
              "      <th>198</th>\n",
              "      <td>0.527070</td>\n",
              "      <td>3.952681</td>\n",
              "    </tr>\n",
              "    <tr>\n",
              "      <th>199</th>\n",
              "      <td>0.116163</td>\n",
              "      <td>3.129283</td>\n",
              "    </tr>\n",
              "  </tbody>\n",
              "</table>\n",
              "<p>200 rows × 2 columns</p>\n",
              "</div>\n",
              "    <div class=\"colab-df-buttons\">\n",
              "\n",
              "  <div class=\"colab-df-container\">\n",
              "    <button class=\"colab-df-convert\" onclick=\"convertToInteractive('df-5f3f60dc-5b8f-40dd-bd5d-c377f6dc74ae')\"\n",
              "            title=\"Convert this dataframe to an interactive table.\"\n",
              "            style=\"display:none;\">\n",
              "\n",
              "  <svg xmlns=\"http://www.w3.org/2000/svg\" height=\"24px\" viewBox=\"0 -960 960 960\">\n",
              "    <path d=\"M120-120v-720h720v720H120Zm60-500h600v-160H180v160Zm220 220h160v-160H400v160Zm0 220h160v-160H400v160ZM180-400h160v-160H180v160Zm440 0h160v-160H620v160ZM180-180h160v-160H180v160Zm440 0h160v-160H620v160Z\"/>\n",
              "  </svg>\n",
              "    </button>\n",
              "\n",
              "  <style>\n",
              "    .colab-df-container {\n",
              "      display:flex;\n",
              "      gap: 12px;\n",
              "    }\n",
              "\n",
              "    .colab-df-convert {\n",
              "      background-color: #E8F0FE;\n",
              "      border: none;\n",
              "      border-radius: 50%;\n",
              "      cursor: pointer;\n",
              "      display: none;\n",
              "      fill: #1967D2;\n",
              "      height: 32px;\n",
              "      padding: 0 0 0 0;\n",
              "      width: 32px;\n",
              "    }\n",
              "\n",
              "    .colab-df-convert:hover {\n",
              "      background-color: #E2EBFA;\n",
              "      box-shadow: 0px 1px 2px rgba(60, 64, 67, 0.3), 0px 1px 3px 1px rgba(60, 64, 67, 0.15);\n",
              "      fill: #174EA6;\n",
              "    }\n",
              "\n",
              "    .colab-df-buttons div {\n",
              "      margin-bottom: 4px;\n",
              "    }\n",
              "\n",
              "    [theme=dark] .colab-df-convert {\n",
              "      background-color: #3B4455;\n",
              "      fill: #D2E3FC;\n",
              "    }\n",
              "\n",
              "    [theme=dark] .colab-df-convert:hover {\n",
              "      background-color: #434B5C;\n",
              "      box-shadow: 0px 1px 3px 1px rgba(0, 0, 0, 0.15);\n",
              "      filter: drop-shadow(0px 1px 2px rgba(0, 0, 0, 0.3));\n",
              "      fill: #FFFFFF;\n",
              "    }\n",
              "  </style>\n",
              "\n",
              "    <script>\n",
              "      const buttonEl =\n",
              "        document.querySelector('#df-5f3f60dc-5b8f-40dd-bd5d-c377f6dc74ae button.colab-df-convert');\n",
              "      buttonEl.style.display =\n",
              "        google.colab.kernel.accessAllowed ? 'block' : 'none';\n",
              "\n",
              "      async function convertToInteractive(key) {\n",
              "        const element = document.querySelector('#df-5f3f60dc-5b8f-40dd-bd5d-c377f6dc74ae');\n",
              "        const dataTable =\n",
              "          await google.colab.kernel.invokeFunction('convertToInteractive',\n",
              "                                                    [key], {});\n",
              "        if (!dataTable) return;\n",
              "\n",
              "        const docLinkHtml = 'Like what you see? Visit the ' +\n",
              "          '<a target=\"_blank\" href=https://colab.research.google.com/notebooks/data_table.ipynb>data table notebook</a>'\n",
              "          + ' to learn more about interactive tables.';\n",
              "        element.innerHTML = '';\n",
              "        dataTable['output_type'] = 'display_data';\n",
              "        await google.colab.output.renderOutput(dataTable, element);\n",
              "        const docLink = document.createElement('div');\n",
              "        docLink.innerHTML = docLinkHtml;\n",
              "        element.appendChild(docLink);\n",
              "      }\n",
              "    </script>\n",
              "  </div>\n",
              "\n",
              "\n",
              "<div id=\"df-ddc6ac66-f557-4dfd-9d40-d1f86fa5e6c1\">\n",
              "  <button class=\"colab-df-quickchart\" onclick=\"quickchart('df-ddc6ac66-f557-4dfd-9d40-d1f86fa5e6c1')\"\n",
              "            title=\"Suggest charts.\"\n",
              "            style=\"display:none;\">\n",
              "\n",
              "<svg xmlns=\"http://www.w3.org/2000/svg\" height=\"24px\"viewBox=\"0 0 24 24\"\n",
              "     width=\"24px\">\n",
              "    <g>\n",
              "        <path d=\"M19 3H5c-1.1 0-2 .9-2 2v14c0 1.1.9 2 2 2h14c1.1 0 2-.9 2-2V5c0-1.1-.9-2-2-2zM9 17H7v-7h2v7zm4 0h-2V7h2v10zm4 0h-2v-4h2v4z\"/>\n",
              "    </g>\n",
              "</svg>\n",
              "  </button>\n",
              "\n",
              "<style>\n",
              "  .colab-df-quickchart {\n",
              "      --bg-color: #E8F0FE;\n",
              "      --fill-color: #1967D2;\n",
              "      --hover-bg-color: #E2EBFA;\n",
              "      --hover-fill-color: #174EA6;\n",
              "      --disabled-fill-color: #AAA;\n",
              "      --disabled-bg-color: #DDD;\n",
              "  }\n",
              "\n",
              "  [theme=dark] .colab-df-quickchart {\n",
              "      --bg-color: #3B4455;\n",
              "      --fill-color: #D2E3FC;\n",
              "      --hover-bg-color: #434B5C;\n",
              "      --hover-fill-color: #FFFFFF;\n",
              "      --disabled-bg-color: #3B4455;\n",
              "      --disabled-fill-color: #666;\n",
              "  }\n",
              "\n",
              "  .colab-df-quickchart {\n",
              "    background-color: var(--bg-color);\n",
              "    border: none;\n",
              "    border-radius: 50%;\n",
              "    cursor: pointer;\n",
              "    display: none;\n",
              "    fill: var(--fill-color);\n",
              "    height: 32px;\n",
              "    padding: 0;\n",
              "    width: 32px;\n",
              "  }\n",
              "\n",
              "  .colab-df-quickchart:hover {\n",
              "    background-color: var(--hover-bg-color);\n",
              "    box-shadow: 0 1px 2px rgba(60, 64, 67, 0.3), 0 1px 3px 1px rgba(60, 64, 67, 0.15);\n",
              "    fill: var(--button-hover-fill-color);\n",
              "  }\n",
              "\n",
              "  .colab-df-quickchart-complete:disabled,\n",
              "  .colab-df-quickchart-complete:disabled:hover {\n",
              "    background-color: var(--disabled-bg-color);\n",
              "    fill: var(--disabled-fill-color);\n",
              "    box-shadow: none;\n",
              "  }\n",
              "\n",
              "  .colab-df-spinner {\n",
              "    border: 2px solid var(--fill-color);\n",
              "    border-color: transparent;\n",
              "    border-bottom-color: var(--fill-color);\n",
              "    animation:\n",
              "      spin 1s steps(1) infinite;\n",
              "  }\n",
              "\n",
              "  @keyframes spin {\n",
              "    0% {\n",
              "      border-color: transparent;\n",
              "      border-bottom-color: var(--fill-color);\n",
              "      border-left-color: var(--fill-color);\n",
              "    }\n",
              "    20% {\n",
              "      border-color: transparent;\n",
              "      border-left-color: var(--fill-color);\n",
              "      border-top-color: var(--fill-color);\n",
              "    }\n",
              "    30% {\n",
              "      border-color: transparent;\n",
              "      border-left-color: var(--fill-color);\n",
              "      border-top-color: var(--fill-color);\n",
              "      border-right-color: var(--fill-color);\n",
              "    }\n",
              "    40% {\n",
              "      border-color: transparent;\n",
              "      border-right-color: var(--fill-color);\n",
              "      border-top-color: var(--fill-color);\n",
              "    }\n",
              "    60% {\n",
              "      border-color: transparent;\n",
              "      border-right-color: var(--fill-color);\n",
              "    }\n",
              "    80% {\n",
              "      border-color: transparent;\n",
              "      border-right-color: var(--fill-color);\n",
              "      border-bottom-color: var(--fill-color);\n",
              "    }\n",
              "    90% {\n",
              "      border-color: transparent;\n",
              "      border-bottom-color: var(--fill-color);\n",
              "    }\n",
              "  }\n",
              "</style>\n",
              "\n",
              "  <script>\n",
              "    async function quickchart(key) {\n",
              "      const quickchartButtonEl =\n",
              "        document.querySelector('#' + key + ' button');\n",
              "      quickchartButtonEl.disabled = true;  // To prevent multiple clicks.\n",
              "      quickchartButtonEl.classList.add('colab-df-spinner');\n",
              "      try {\n",
              "        const charts = await google.colab.kernel.invokeFunction(\n",
              "            'suggestCharts', [key], {});\n",
              "      } catch (error) {\n",
              "        console.error('Error during call to suggestCharts:', error);\n",
              "      }\n",
              "      quickchartButtonEl.classList.remove('colab-df-spinner');\n",
              "      quickchartButtonEl.classList.add('colab-df-quickchart-complete');\n",
              "    }\n",
              "    (() => {\n",
              "      let quickchartButtonEl =\n",
              "        document.querySelector('#df-ddc6ac66-f557-4dfd-9d40-d1f86fa5e6c1 button');\n",
              "      quickchartButtonEl.style.display =\n",
              "        google.colab.kernel.accessAllowed ? 'block' : 'none';\n",
              "    })();\n",
              "  </script>\n",
              "</div>\n",
              "    </div>\n",
              "  </div>\n"
            ]
          },
          "metadata": {},
          "execution_count": 2
        }
      ]
    },
    {
      "cell_type": "markdown",
      "metadata": {
        "id": "JuHhQLpVCCC7"
      },
      "source": [
        "# Use Numpy to convert the numerical data"
      ]
    },
    {
      "cell_type": "code",
      "metadata": {
        "id": "3R2aXrAjaO8N",
        "colab": {
          "base_uri": "https://localhost:8080/"
        },
        "outputId": "5dd18be8-00da-4f09-f03c-28412f7b3a69"
      },
      "source": [
        "import numpy  as np\n",
        "data=np.asarray(data)\n",
        "X = np.delete(data, data.shape[1] - 1, axis=1)\n",
        "y = data[:, -1]\n",
        "print(\"X.shape:\",X.shape)\n",
        "print(\"y.shape:\",y.shape)\n"
      ],
      "execution_count": null,
      "outputs": [
        {
          "output_type": "stream",
          "name": "stdout",
          "text": [
            "X.shape: (200, 1)\n",
            "y.shape: (200,)\n"
          ]
        }
      ]
    },
    {
      "cell_type": "markdown",
      "metadata": {
        "id": "KQxwkhEfCeqf"
      },
      "source": [
        "# Visualize Data"
      ]
    },
    {
      "cell_type": "code",
      "metadata": {
        "id": "QK1jCZaUEZjP",
        "colab": {
          "base_uri": "https://localhost:8080/",
          "height": 449
        },
        "outputId": "8f7776e2-ca70-4df1-daa7-91a51c0da7a0"
      },
      "source": [
        "\n",
        "\n",
        "import matplotlib\n",
        "import matplotlib.pyplot as plt\n",
        "\n",
        "plt.scatter(X,y,color='r')\n",
        "plt.xlabel(\"Population of a city in 1 million\")\n",
        "plt.ylabel(\"Profit in 1 million\")\n",
        "plt.show()"
      ],
      "execution_count": null,
      "outputs": [
        {
          "output_type": "display_data",
          "data": {
            "text/plain": [
              "<Figure size 640x480 with 1 Axes>"
            ],
            "image/png": "[encoded data removed]"
          },
          "metadata": {}
        }
      ]
    },
    {
      "cell_type": "code",
      "source": [
        "for i in range(X.shape[0]):\n",
        "  print(X[i,0],y[i],'a')"
      ],
      "metadata": {
        "colab": {
          "base_uri": "https://localhost:8080/"
        },
        "id": "9LLn-ufCIp_n",
        "outputId": "7fccb561-c03e-49d5-f7af-b89040a4c08d"
      },
      "execution_count": null,
      "outputs": [
        {
          "output_type": "stream",
          "name": "stdout",
          "text": [
            "0.067732 3.176513 a\n",
            "0.42781 3.816464 a\n",
            "0.995731 4.550095 a\n",
            "0.738336 4.256571 a\n",
            "0.981083 4.560815 a\n",
            "0.526171 3.929515 a\n",
            "0.378887 3.52617 a\n",
            "0.033859 3.156393 a\n",
            "0.132791 3.110301 a\n",
            "0.138306 3.149813 a\n",
            "0.247809 3.476346 a\n",
            "0.64827 4.119688 a\n",
            "0.731209 4.282233 a\n",
            "0.236833 3.486582 a\n",
            "0.969788 4.655492 a\n",
            "0.607492 3.965162 a\n",
            "0.358622 3.5149 a\n",
            "0.147846 3.125947 a\n",
            "0.63782 4.094115 a\n",
            "0.230372 3.476039 a\n",
            "0.070237 3.21061 a\n",
            "0.067154 3.190612 a\n",
            "0.925577 4.631504 a\n",
            "0.717733 4.29589 a\n",
            "0.015371 3.085028 a\n",
            "0.33507 3.44808 a\n",
            "0.040486 3.16744 a\n",
            "0.212575 3.364266 a\n",
            "0.617218 3.993482 a\n",
            "0.541196 3.891471 a\n",
            "0.045353 3.143259 a\n",
            "0.126762 3.114204 a\n",
            "0.556486 3.851484 a\n",
            "0.901144 4.621899 a\n",
            "0.958476 4.580768 a\n",
            "0.274561 3.620992 a\n",
            "0.394396 3.580501 a\n",
            "0.87248 4.618706 a\n",
            "0.409932 3.676867 a\n",
            "0.908969 4.641845 a\n",
            "0.166819 3.175939 a\n",
            "0.665016 4.26498 a\n",
            "0.263727 3.558448 a\n",
            "0.231214 3.436632 a\n",
            "0.552928 3.831052 a\n",
            "0.047744 3.182853 a\n",
            "0.365746 3.498906 a\n",
            "0.495002 3.946833 a\n",
            "0.493466 3.900583 a\n",
            "0.792101 4.238522 a\n",
            "0.76966 4.23308 a\n",
            "0.251821 3.521557 a\n",
            "0.181951 3.203344 a\n",
            "0.808177 4.278105 a\n",
            "0.334116 3.555705 a\n",
            "0.33863 3.502661 a\n",
            "0.452584 3.859776 a\n",
            "0.69477 4.275956 a\n",
            "0.590902 3.916191 a\n",
            "0.307928 3.587961 a\n",
            "0.148364 3.183004 a\n",
            "0.70218 4.225236 a\n",
            "0.721544 4.231083 a\n",
            "0.666886 4.240544 a\n",
            "0.124931 3.222372 a\n",
            "0.618286 4.021445 a\n",
            "0.381086 3.567479 a\n",
            "0.385643 3.56258 a\n",
            "0.777175 4.262059 a\n",
            "0.116089 3.208813 a\n",
            "0.115487 3.169825 a\n",
            "0.66351 4.193949 a\n",
            "0.254884 3.491678 a\n",
            "0.993888 4.533306 a\n",
            "0.295434 3.550108 a\n",
            "0.952523 4.636427 a\n",
            "0.307047 3.557078 a\n",
            "0.277261 3.552874 a\n",
            "0.279101 3.494159 a\n",
            "0.175724 3.206828 a\n",
            "0.156383 3.195266 a\n",
            "0.733165 4.221292 a\n",
            "0.848142 4.413372 a\n",
            "0.771184 4.184347 a\n",
            "0.429492 3.742878 a\n",
            "0.162176 3.201878 a\n",
            "0.917064 4.648964 a\n",
            "0.315044 3.510117 a\n",
            "0.201473 3.274434 a\n",
            "0.297038 3.579622 a\n",
            "0.336647 3.489244 a\n",
            "0.666109 4.237386 a\n",
            "0.583888 3.913749 a\n",
            "0.085031 3.22899 a\n",
            "0.687006 4.286286 a\n",
            "0.949655 4.628614 a\n",
            "0.189912 3.239536 a\n",
            "0.844027 4.457997 a\n",
            "0.333288 3.513384 a\n",
            "0.427035 3.729674 a\n",
            "0.466369 3.834274 a\n",
            "0.550659 3.811155 a\n",
            "0.278213 3.598316 a\n",
            "0.918769 4.692514 a\n",
            "0.886555 4.604859 a\n",
            "0.569488 3.864912 a\n",
            "0.066379 3.184236 a\n",
            "0.335751 3.500796 a\n",
            "0.426863 3.743365 a\n",
            "0.395746 3.622905 a\n",
            "0.694221 4.310796 a\n",
            "0.27276 3.583357 a\n",
            "0.503495 3.901852 a\n",
            "0.067119 3.233521 a\n",
            "0.038326 3.105266 a\n",
            "0.599122 3.865544 a\n",
            "0.947054 4.628625 a\n",
            "0.671279 4.231213 a\n",
            "0.434811 3.791149 a\n",
            "0.509381 3.968271 a\n",
            "0.749442 4.25391 a\n",
            "0.058014 3.19471 a\n",
            "0.482978 3.996503 a\n",
            "0.466776 3.904358 a\n",
            "0.357767 3.503976 a\n",
            "0.949123 4.557545 a\n",
            "0.41732 3.699876 a\n",
            "0.920461 4.613614 a\n",
            "0.156433 3.140401 a\n",
            "0.656662 4.206717 a\n",
            "0.616418 3.969524 a\n",
            "0.853428 4.476096 a\n",
            "0.133295 3.136528 a\n",
            "0.693007 4.279071 a\n",
            "0.178449 3.200603 a\n",
            "0.199526 3.299012 a\n",
            "0.073224 3.209873 a\n",
            "0.286515 3.632942 a\n",
            "0.182026 3.248361 a\n",
            "0.621523 3.995783 a\n",
            "0.344584 3.563262 a\n",
            "0.398556 3.649712 a\n",
            "0.480369 3.951845 a\n",
            "0.15335 3.145031 a\n",
            "0.171846 3.181577 a\n",
            "0.867082 4.637087 a\n",
            "0.223855 3.404964 a\n",
            "0.528301 3.873188 a\n",
            "0.890192 4.633648 a\n",
            "0.106352 3.154768 a\n",
            "0.917886 4.623637 a\n",
            "0.014855 3.078132 a\n",
            "0.567682 3.913596 a\n",
            "0.068854 3.221817 a\n",
            "0.603535 3.938071 a\n",
            "0.53205 3.880822 a\n",
            "0.651362 4.176436 a\n",
            "0.901225 4.648161 a\n",
            "0.204337 3.332312 a\n",
            "0.696081 4.240614 a\n",
            "0.963924 4.532224 a\n",
            "0.98139 4.557105 a\n",
            "0.987911 4.610072 a\n",
            "0.990947 4.636569 a\n",
            "0.736021 4.229813 a\n",
            "0.253574 3.50086 a\n",
            "0.674722 4.245514 a\n",
            "0.939368 4.605182 a\n",
            "0.235419 3.45434 a\n",
            "0.110521 3.180775 a\n",
            "0.218023 3.38082 a\n",
            "0.869778 4.56502 a\n",
            "0.19683 3.279973 a\n",
            "0.958178 4.554241 a\n",
            "0.972673 4.63352 a\n",
            "0.745797 4.281037 a\n",
            "0.445674 3.844426 a\n",
            "0.470557 3.891601 a\n",
            "0.549236 3.849728 a\n",
            "0.335691 3.492215 a\n",
            "0.884739 4.592374 a\n",
            "0.918916 4.632025 a\n",
            "0.441815 3.75675 a\n",
            "0.116598 3.133555 a\n",
            "0.359274 3.567919 a\n",
            "0.814811 4.363382 a\n",
            "0.387125 3.560165 a\n",
            "0.982243 4.564305 a\n",
            "0.78088 4.215055 a\n",
            "0.652565 4.174999 a\n",
            "0.87003 4.58664 a\n",
            "0.604755 3.960008 a\n",
            "0.255212 3.529963 a\n",
            "0.730546 4.213412 a\n",
            "0.493829 3.908685 a\n",
            "0.257017 3.585821 a\n",
            "0.833735 4.374394 a\n",
            "0.070095 3.213817 a\n",
            "0.52707 3.952681 a\n",
            "0.116163 3.129283 a\n"
          ]
        }
      ]
    },
    {
      "cell_type": "markdown",
      "metadata": {
        "id": "2Yd9--tPGZ89"
      },
      "source": [
        "# Try a random line\n"
      ]
    },
    {
      "cell_type": "code",
      "metadata": {
        "id": "ja53P_ebC0HJ",
        "colab": {
          "base_uri": "https://localhost:8080/",
          "height": 449
        },
        "outputId": "93e442ff-d7ae-4b10-f8ca-676132fd75b4"
      },
      "source": [
        "w0=3\n",
        "w1= 1.69\n",
        "population=np.linspace(0,1,100)\n",
        "profit=w0+w1*population\n",
        "import matplotlib\n",
        "import matplotlib.pyplot as plt\n",
        "\n",
        "plt.scatter(X,y,color='r')\n",
        "plt.xlabel(\"Population of a city in 10,000s\")\n",
        "plt.ylabel(\"Profit in $10,000s\")\n",
        "plt.plot(population,profit)\n",
        "\n",
        "\n",
        "\n",
        "w0=3\n",
        "w1= 1\n",
        "profit=w0+w1*population\n",
        "plt.plot(population,profit)\n",
        "\n",
        "w0=3\n",
        "w1= 2\n",
        "profit=w0+w1*population\n",
        "plt.plot(population,profit)\n",
        "\n",
        "plt.legend(['dataset','y=3+1.69x','y=3+x','y=3+2x'])\n",
        "plt.show()\n",
        "\n",
        "\n"
      ],
      "execution_count": null,
      "outputs": [
        {
          "output_type": "display_data",
          "data": {
            "text/plain": [
              "<Figure size 640x480 with 1 Axes>"
            ],
            "image/png": "[encoded data removed]"
          },
          "metadata": {}
        }
      ]
    },
    {
      "cell_type": "markdown",
      "metadata": {
        "id": "v2ycsobkGqZP"
      },
      "source": [
        "## Learn the line using Gradient Descent"
      ]
    },
    {
      "cell_type": "code",
      "metadata": {
        "id": "rhORe3TkGfQ9",
        "colab": {
          "base_uri": "https://localhost:8080/",
          "height": 508
        },
        "outputId": "96320da1-c5ff-43b4-c58a-422153e50512"
      },
      "source": [
        "from numpy import mat\n",
        "import copy\n",
        "\n",
        "def learn(X,y,alpha,maxIter):\n",
        "\n",
        "  # make a deep copy of everything\n",
        "  X=copy.deepcopy(X)\n",
        "  y=copy.deepcopy(y)\n",
        "\n",
        "  # add ones to each of the instances\n",
        "  ones=np.ones((X.shape[0],1))\n",
        "  X=np.concatenate((ones,X),axis=1)\n",
        "  X=mat(X)\n",
        "  y=mat(y)\n",
        "  # initialize wights\n",
        "  w=np.zeros((X.shape[1],1))#np.random.rand(1,X.shape[1])*-1\n",
        "\n",
        "  w=mat(w)\n",
        "  for i in range(0,maxIter):\n",
        "    # for each of the training examples find prediction\n",
        "    ypred = X*w\n",
        "    # for each of the training examples find error\n",
        "    delY=ypred-y.T\n",
        "    # take the gradient\n",
        "    delw=X.T * delY\n",
        "    # adjust weights using the gradients\n",
        "    w=w-delw*alpha #/X.shape[0]\n",
        "  return w\n",
        "\n",
        "w=learn(X,y,0.00001,100)\n",
        "print(w)\n",
        "\n",
        "\n",
        "population=np.linspace(0,1,100)\n",
        "profit=w[0,0]+population*w[1,0]\n",
        "import matplotlib\n",
        "import matplotlib.pyplot as plt\n",
        "\n",
        "plt.scatter(X,y,color='r')\n",
        "plt.xlabel(\"Population of a city in 10,000s\")\n",
        "plt.title(\"Scatter Plot\")\n",
        "plt.ylabel(\"Profit in $10,000s\")\n",
        "plt.plot(population,profit)\n",
        "plt.show()"
      ],
      "execution_count": null,
      "outputs": [
        {
          "output_type": "stream",
          "name": "stdout",
          "text": [
            "[[0.67904361]\n",
            " [0.35739295]]\n"
          ]
        },
        {
          "output_type": "display_data",
          "data": {
            "text/plain": [
              "<Figure size 640x480 with 1 Axes>"
            ],
            "image/png": "[encoded data removed]"
          },
          "metadata": {}
        }
      ]
    },
    {
      "cell_type": "code",
      "metadata": {
        "id": "PaGxcZADGutd"
      },
      "source": [
        "from sklearn.linear_model import LinearRegression"
      ],
      "execution_count": null,
      "outputs": []
    },
    {
      "cell_type": "code",
      "metadata": {
        "id": "6XIjf158BBPy"
      },
      "source": [
        "reg = LinearRegression().fit(X, y)"
      ],
      "execution_count": null,
      "outputs": []
    },
    {
      "cell_type": "code",
      "source": [
        "reg.coef_"
      ],
      "metadata": {
        "colab": {
          "base_uri": "https://localhost:8080/"
        },
        "id": "MU6faln4hV-0",
        "outputId": "6c016556-2901-494f-b76f-545f01442069"
      },
      "execution_count": null,
      "outputs": [
        {
          "output_type": "execute_result",
          "data": {
            "text/plain": [
              "array([1.69532264])"
            ]
          },
          "metadata": {},
          "execution_count": 15
        }
      ]
    },
    {
      "cell_type": "code",
      "source": [
        "reg.intercept_"
      ],
      "metadata": {
        "colab": {
          "base_uri": "https://localhost:8080/"
        },
        "id": "z2Tx8CrKhZBq",
        "outputId": "7a271aca-9fae-426a-dc21-44d739c47159"
      },
      "execution_count": null,
      "outputs": [
        {
          "output_type": "execute_result",
          "data": {
            "text/plain": [
              "3.007743242697591"
            ]
          },
          "metadata": {},
          "execution_count": 16
        }
      ]
    },
    {
      "cell_type": "code",
      "source": [
        "reg.predict(np.array([[0.5]]))"
      ],
      "metadata": {
        "id": "z1NKP-dchbSU",
        "outputId": "948dd952-283e-4ee0-e98c-d3d5bade0009",
        "colab": {
          "base_uri": "https://localhost:8080/"
        }
      },
      "execution_count": null,
      "outputs": [
        {
          "output_type": "execute_result",
          "data": {
            "text/plain": [
              "array([3.85540456])"
            ]
          },
          "metadata": {},
          "execution_count": 22
        }
      ]
    },
    {
      "cell_type": "code",
      "source": [],
      "metadata": {
        "id": "OPPAEG2-hexs"
      },
      "execution_count": null,
      "outputs": []
    }
  ]
}